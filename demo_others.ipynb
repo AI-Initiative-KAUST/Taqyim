{
 "cells": [
  {
   "cell_type": "code",
   "execution_count": null,
   "id": "71c503ce",
   "metadata": {},
   "outputs": [],
   "source": [
    "!pip install -e ."
   ]
  },
  {
   "cell_type": "code",
   "execution_count": null,
   "id": "56bac3df",
   "metadata": {},
   "outputs": [],
   "source": [
    "import taqyim as tq\n",
    "\n",
    "pipeline = tq.Pipeline(\n",
    "    eval_name = \"test\",\n",
    "    dataset_name=\"mteb/tweet_sentiment_extraction\",\n",
    "    task_class= \"classification\",\n",
    "    task_description = \"Sentiment Classification\",\n",
    "    input_column_name = 'text',\n",
    "    target_column_name = 'label_text',\n",
    "    prompt=\"Predict the sentiment as one of the following: positive, negative, or neutral\",\n",
    "    api_key='<openai-key>',\n",
    "    subset=\"all\",\n",
    "    model_name = \"gpt-3.5-turbo-0301\",\n",
    "    max_samples= 2,)"
   ]
  },
  {
   "cell_type": "code",
   "execution_count": 10,
   "id": "dbd6137c",
   "metadata": {},
   "outputs": [
    {
     "name": "stderr",
     "output_type": "stream",
     "text": [
      "[2023-06-30 16:38:39,032] [registry.py:156] Loading registry from /home/zaid/evals/evals/registry/evals\n",
      "[2023-06-30 16:38:39,128] [registry.py:156] Loading registry from /home/zaid/.evals/evals\n",
      "[2023-06-30 16:38:40,728] [oaieval.py:213] \u001b[1;35mRun started: 230630133840NDQFJH2O\u001b[0m\n",
      "[2023-06-30 16:38:40,729] [data.py:75] Fetching /home/zaid/.evals/data/test/samples.jsonl\n",
      "[2023-06-30 16:38:40,730] [eval.py:32] Evaluating 2 samples\n",
      "[2023-06-30 16:38:40,732] [eval.py:152] Running in threaded mode with 1 threads!\n",
      "100%|██████████| 2/2 [00:03<00:00,  1.77s/it]\n",
      "[2023-06-30 16:38:44,275] [record.py:320] Final report: {'accuracy': 1.0}. Logged to /home/zaid/.evals/eval_results/test.jsonl\n",
      "[2023-06-30 16:38:44,276] [oaieval.py:231] Final report:\n",
      "[2023-06-30 16:38:44,276] [oaieval.py:233] accuracy: 1.0\n",
      "[2023-06-30 16:38:44,276] [record.py:309] Logged 6 rows of events to /home/zaid/.evals/eval_results/test.jsonl: insert_time=0.438ms\n"
     ]
    }
   ],
   "source": [
    "pipeline.run()"
   ]
  },
  {
   "cell_type": "code",
   "execution_count": 11,
   "id": "f9386f9c",
   "metadata": {},
   "outputs": [
    {
     "data": {
      "text/html": [
       "<div>\n",
       "<style scoped>\n",
       "    .dataframe tbody tr th:only-of-type {\n",
       "        vertical-align: middle;\n",
       "    }\n",
       "\n",
       "    .dataframe tbody tr th {\n",
       "        vertical-align: top;\n",
       "    }\n",
       "\n",
       "    .dataframe thead th {\n",
       "        text-align: right;\n",
       "    }\n",
       "</style>\n",
       "<table border=\"1\" class=\"dataframe\">\n",
       "  <thead>\n",
       "    <tr style=\"text-align: right;\">\n",
       "      <th></th>\n",
       "      <th>prompt</th>\n",
       "      <th>Sample</th>\n",
       "    </tr>\n",
       "  </thead>\n",
       "  <tbody>\n",
       "    <tr>\n",
       "      <th>0</th>\n",
       "      <td>Last session of the day  http://twitpic.com/67ezh</td>\n",
       "      <td>neutral</td>\n",
       "    </tr>\n",
       "    <tr>\n",
       "      <th>1</th>\n",
       "      <td>Shanghai is also really exciting (precisely -...</td>\n",
       "      <td>positive</td>\n",
       "    </tr>\n",
       "  </tbody>\n",
       "</table>\n",
       "</div>"
      ],
      "text/plain": [
       "                                              prompt    Sample\n",
       "0  Last session of the day  http://twitpic.com/67ezh   neutral\n",
       "1   Shanghai is also really exciting (precisely -...  positive"
      ]
     },
     "execution_count": 11,
     "metadata": {},
     "output_type": "execute_result"
    }
   ],
   "source": [
    "pipeline.show_results()"
   ]
  },
  {
   "cell_type": "code",
   "execution_count": 12,
   "id": "6f3e00fe",
   "metadata": {},
   "outputs": [
    {
     "data": {
      "text/plain": [
       "[{'accuracy': 1.0}]"
      ]
     },
     "execution_count": 12,
     "metadata": {},
     "output_type": "execute_result"
    }
   ],
   "source": [
    "pipeline.get_final_report()"
   ]
  }
 ],
 "metadata": {
  "kernelspec": {
   "display_name": "Python 3 (ipykernel)",
   "language": "python",
   "name": "python3"
  },
  "language_info": {
   "codemirror_mode": {
    "name": "ipython",
    "version": 3
   },
   "file_extension": ".py",
   "mimetype": "text/x-python",
   "name": "python",
   "nbconvert_exporter": "python",
   "pygments_lexer": "ipython3",
   "version": "3.9.0"
  }
 },
 "nbformat": 4,
 "nbformat_minor": 5
}
