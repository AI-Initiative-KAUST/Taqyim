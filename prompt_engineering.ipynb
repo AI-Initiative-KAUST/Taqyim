{
 "cells": [
  {
   "cell_type": "code",
   "execution_count": 1,
   "id": "b8319963",
   "metadata": {},
   "outputs": [],
   "source": [
    "import pandas as pd\n",
    "results = []\n",
    "for _id in range(5):\n",
    "    record_path = f'eval_results/eval_results_gpt_3_5/ajgt_prompt_engineering/ajgt-prompt-{_id}.jsonl'\n",
    "    with open(record_path, \"r\") as f:\n",
    "        events_df = pd.read_json(f, lines=True)\n",
    "    results.append(['gpt-3.5', _id,  round(events_df[events_df[\"final_report\"].notnull()][\"final_report\"].to_list()[0]['accuracy'], 4)])"
   ]
  },
  {
   "cell_type": "code",
   "execution_count": 2,
   "id": "bab69217",
   "metadata": {},
   "outputs": [],
   "source": [
    "import pandas as pd\n",
    "for _id in range(5):\n",
    "    record_path = f'eval_results/eval_results_gpt_4_0/ajgt_prompt_engineering/ajgt-prompt-{_id}.jsonl'\n",
    "    with open(record_path, \"r\") as f:\n",
    "        events_df = pd.read_json(f, lines=True)\n",
    "    results.append(['gpt-4.0', _id,  round(events_df[events_df[\"final_report\"].notnull()][\"final_report\"].to_list()[0]['accuracy'], 4)])"
   ]
  },
  {
   "cell_type": "code",
   "execution_count": 3,
   "id": "6c923deb",
   "metadata": {},
   "outputs": [
    {
     "data": {
      "text/plain": [
       "[['gpt-3.5', 0, 0.6583],\n",
       " ['gpt-3.5', 1, 0.8389],\n",
       " ['gpt-3.5', 2, 0.8306],\n",
       " ['gpt-3.5', 3, 0.4806],\n",
       " ['gpt-3.5', 4, 0.8694],\n",
       " ['gpt-4.0', 0, 0.8219],\n",
       " ['gpt-4.0', 1, 0.8536],\n",
       " ['gpt-4.0', 2, 0.9063],\n",
       " ['gpt-4.0', 3, 0.9148],\n",
       " ['gpt-4.0', 4, 0.8194]]"
      ]
     },
     "execution_count": 3,
     "metadata": {},
     "output_type": "execute_result"
    }
   ],
   "source": [
    "results"
   ]
  },
  {
   "cell_type": "code",
   "execution_count": 4,
   "id": "3fa2fb6e",
   "metadata": {},
   "outputs": [],
   "source": [
    "import seaborn as sns"
   ]
  },
  {
   "cell_type": "code",
   "execution_count": 5,
   "id": "e38fffab",
   "metadata": {},
   "outputs": [],
   "source": [
    "import pandas as pd"
   ]
  },
  {
   "cell_type": "code",
   "execution_count": 36,
   "id": "8ddbefe9",
   "metadata": {},
   "outputs": [],
   "source": [
    "df = pd.DataFrame(results)\n",
    "df.columns = ['Model', 'Prompt', 'Accuracy']"
   ]
  },
  {
   "cell_type": "code",
   "execution_count": 37,
   "id": "6d6fb24c",
   "metadata": {},
   "outputs": [
    {
     "data": {
      "text/html": [
       "<div>\n",
       "<style scoped>\n",
       "    .dataframe tbody tr th:only-of-type {\n",
       "        vertical-align: middle;\n",
       "    }\n",
       "\n",
       "    .dataframe tbody tr th {\n",
       "        vertical-align: top;\n",
       "    }\n",
       "\n",
       "    .dataframe thead th {\n",
       "        text-align: right;\n",
       "    }\n",
       "</style>\n",
       "<table border=\"1\" class=\"dataframe\">\n",
       "  <thead>\n",
       "    <tr style=\"text-align: right;\">\n",
       "      <th></th>\n",
       "      <th>Model</th>\n",
       "      <th>Prompt</th>\n",
       "      <th>Accuracy</th>\n",
       "    </tr>\n",
       "  </thead>\n",
       "  <tbody>\n",
       "    <tr>\n",
       "      <th>0</th>\n",
       "      <td>gpt-3.5</td>\n",
       "      <td>0</td>\n",
       "      <td>0.6583</td>\n",
       "    </tr>\n",
       "    <tr>\n",
       "      <th>1</th>\n",
       "      <td>gpt-3.5</td>\n",
       "      <td>1</td>\n",
       "      <td>0.8389</td>\n",
       "    </tr>\n",
       "    <tr>\n",
       "      <th>2</th>\n",
       "      <td>gpt-3.5</td>\n",
       "      <td>2</td>\n",
       "      <td>0.8306</td>\n",
       "    </tr>\n",
       "    <tr>\n",
       "      <th>3</th>\n",
       "      <td>gpt-3.5</td>\n",
       "      <td>3</td>\n",
       "      <td>0.4806</td>\n",
       "    </tr>\n",
       "    <tr>\n",
       "      <th>4</th>\n",
       "      <td>gpt-3.5</td>\n",
       "      <td>4</td>\n",
       "      <td>0.8694</td>\n",
       "    </tr>\n",
       "    <tr>\n",
       "      <th>5</th>\n",
       "      <td>gpt-4.0</td>\n",
       "      <td>0</td>\n",
       "      <td>0.8219</td>\n",
       "    </tr>\n",
       "    <tr>\n",
       "      <th>6</th>\n",
       "      <td>gpt-4.0</td>\n",
       "      <td>1</td>\n",
       "      <td>0.8536</td>\n",
       "    </tr>\n",
       "    <tr>\n",
       "      <th>7</th>\n",
       "      <td>gpt-4.0</td>\n",
       "      <td>2</td>\n",
       "      <td>0.9063</td>\n",
       "    </tr>\n",
       "    <tr>\n",
       "      <th>8</th>\n",
       "      <td>gpt-4.0</td>\n",
       "      <td>3</td>\n",
       "      <td>0.9148</td>\n",
       "    </tr>\n",
       "    <tr>\n",
       "      <th>9</th>\n",
       "      <td>gpt-4.0</td>\n",
       "      <td>4</td>\n",
       "      <td>0.8194</td>\n",
       "    </tr>\n",
       "  </tbody>\n",
       "</table>\n",
       "</div>"
      ],
      "text/plain": [
       "     Model  Prompt  Accuracy\n",
       "0  gpt-3.5       0    0.6583\n",
       "1  gpt-3.5       1    0.8389\n",
       "2  gpt-3.5       2    0.8306\n",
       "3  gpt-3.5       3    0.4806\n",
       "4  gpt-3.5       4    0.8694\n",
       "5  gpt-4.0       0    0.8219\n",
       "6  gpt-4.0       1    0.8536\n",
       "7  gpt-4.0       2    0.9063\n",
       "8  gpt-4.0       3    0.9148\n",
       "9  gpt-4.0       4    0.8194"
      ]
     },
     "execution_count": 37,
     "metadata": {},
     "output_type": "execute_result"
    }
   ],
   "source": [
    "df"
   ]
  },
  {
   "cell_type": "code",
   "execution_count": 39,
   "id": "82cd98a2",
   "metadata": {},
   "outputs": [
    {
     "data": {
      "text/plain": [
       "<matplotlib.legend.Legend at 0x7fec438ded10>"
      ]
     },
     "execution_count": 39,
     "metadata": {},
     "output_type": "execute_result"
    },
    {
     "data": {
      "image/png": "[encoded data removed]",
      "text/plain": [
       "<Figure size 280x400 with 1 Axes>"
      ]
     },
     "metadata": {},
     "output_type": "display_data"
    }
   ],
   "source": [
    "import seaborn as sns\n",
    "import matplotlib.pyplot as plt\n",
    "g = sns.catplot(\n",
    "    x=\"Model\", \n",
    "    y=\"Accuracy\", \n",
    "    data=df, \n",
    "    kind=\"bar\", \n",
    "    errorbar = \"sd\", \n",
    "    edgecolor=\"black\",\n",
    "    errcolor=\"black\",\n",
    "    errwidth=1.5,\n",
    "    capsize = 0.1,\n",
    "    height=4, \n",
    "    aspect=.7,\n",
    "    alpha=0.5)\n",
    "sns.swarmplot(data=df, x=\"Model\", y=\"Accuracy\", hue ='Model', alpha=0.5, legend='auto')\n",
    "plt.legend(loc='upper right', bbox_to_anchor=(1.7,1))"
   ]
  },
  {
   "cell_type": "code",
   "execution_count": null,
   "id": "547132c9",
   "metadata": {},
   "outputs": [],
   "source": []
  }
 ],
 "metadata": {
  "kernelspec": {
   "display_name": "Python 3 (ipykernel)",
   "language": "python",
   "name": "python3"
  },
  "language_info": {
   "codemirror_mode": {
    "name": "ipython",
    "version": 3
   },
   "file_extension": ".py",
   "mimetype": "text/x-python",
   "name": "python",
   "nbconvert_exporter": "python",
   "pygments_lexer": "ipython3",
   "version": "3.10.11"
  }
 },
 "nbformat": 4,
 "nbformat_minor": 5
}
