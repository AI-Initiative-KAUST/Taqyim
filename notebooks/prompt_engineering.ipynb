{
 "cells": [
  {
   "cell_type": "code",
   "execution_count": 2,
   "id": "b8319963",
   "metadata": {},
   "outputs": [],
   "source": [
    "import pandas as pd\n",
    "results = []\n",
    "for _id in range(5):\n",
    "    record_path = f'../eval_results/eval_results_gpt_3_5/ajgt_prompt_engineering/ajgt-prompt-{_id}.jsonl'\n",
    "    with open(record_path, \"r\") as f:\n",
    "        events_df = pd.read_json(f, lines=True)\n",
    "    results.append(['GPT-3.5', _id,  round(events_df[events_df[\"final_report\"].notnull()][\"final_report\"].to_list()[0]['accuracy'], 4)])"
   ]
  },
  {
   "cell_type": "code",
   "execution_count": 3,
   "id": "bab69217",
   "metadata": {},
   "outputs": [],
   "source": [
    "import pandas as pd\n",
    "for _id in range(5):\n",
    "    record_path = f'../eval_results/eval_results_gpt_4_0/ajgt_prompt_engineering/ajgt-prompt-{_id}.jsonl'\n",
    "    with open(record_path, \"r\") as f:\n",
    "        events_df = pd.read_json(f, lines=True)\n",
    "    results.append(['GPT-4.0', _id,  round(events_df[events_df[\"final_report\"].notnull()][\"final_report\"].to_list()[0]['accuracy'], 4)])"
   ]
  },
  {
   "cell_type": "code",
   "execution_count": 4,
   "id": "6c923deb",
   "metadata": {},
   "outputs": [
    {
     "data": {
      "text/plain": [
       "[['GPT-3.5', 0, 0.6583],\n",
       " ['GPT-3.5', 1, 0.8389],\n",
       " ['GPT-3.5', 2, 0.8306],\n",
       " ['GPT-3.5', 3, 0.4806],\n",
       " ['GPT-3.5', 4, 0.8694],\n",
       " ['GPT-4.0', 0, 0.8219],\n",
       " ['GPT-4.0', 1, 0.8536],\n",
       " ['GPT-4.0', 2, 0.9063],\n",
       " ['GPT-4.0', 3, 0.9148],\n",
       " ['GPT-4.0', 4, 0.8194]]"
      ]
     },
     "execution_count": 4,
     "metadata": {},
     "output_type": "execute_result"
    }
   ],
   "source": [
    "results"
   ]
  },
  {
   "cell_type": "code",
   "execution_count": 5,
   "id": "3fa2fb6e",
   "metadata": {},
   "outputs": [],
   "source": [
    "import seaborn as sns"
   ]
  },
  {
   "cell_type": "code",
   "execution_count": 6,
   "id": "e38fffab",
   "metadata": {},
   "outputs": [],
   "source": [
    "import pandas as pd"
   ]
  },
  {
   "cell_type": "code",
   "execution_count": 7,
   "id": "8ddbefe9",
   "metadata": {},
   "outputs": [],
   "source": [
    "df = pd.DataFrame(results)\n",
    "df.columns = ['Model', 'Prompt', 'Accuracy']"
   ]
  },
  {
   "cell_type": "code",
   "execution_count": 8,
   "id": "6d6fb24c",
   "metadata": {},
   "outputs": [
    {
     "data": {
      "text/html": [
       "<div>\n",
       "<style scoped>\n",
       "    .dataframe tbody tr th:only-of-type {\n",
       "        vertical-align: middle;\n",
       "    }\n",
       "\n",
       "    .dataframe tbody tr th {\n",
       "        vertical-align: top;\n",
       "    }\n",
       "\n",
       "    .dataframe thead th {\n",
       "        text-align: right;\n",
       "    }\n",
       "</style>\n",
       "<table border=\"1\" class=\"dataframe\">\n",
       "  <thead>\n",
       "    <tr style=\"text-align: right;\">\n",
       "      <th></th>\n",
       "      <th>Model</th>\n",
       "      <th>Prompt</th>\n",
       "      <th>Accuracy</th>\n",
       "    </tr>\n",
       "  </thead>\n",
       "  <tbody>\n",
       "    <tr>\n",
       "      <th>0</th>\n",
       "      <td>GPT-3.5</td>\n",
       "      <td>0</td>\n",
       "      <td>0.6583</td>\n",
       "    </tr>\n",
       "    <tr>\n",
       "      <th>1</th>\n",
       "      <td>GPT-3.5</td>\n",
       "      <td>1</td>\n",
       "      <td>0.8389</td>\n",
       "    </tr>\n",
       "    <tr>\n",
       "      <th>2</th>\n",
       "      <td>GPT-3.5</td>\n",
       "      <td>2</td>\n",
       "      <td>0.8306</td>\n",
       "    </tr>\n",
       "    <tr>\n",
       "      <th>3</th>\n",
       "      <td>GPT-3.5</td>\n",
       "      <td>3</td>\n",
       "      <td>0.4806</td>\n",
       "    </tr>\n",
       "    <tr>\n",
       "      <th>4</th>\n",
       "      <td>GPT-3.5</td>\n",
       "      <td>4</td>\n",
       "      <td>0.8694</td>\n",
       "    </tr>\n",
       "    <tr>\n",
       "      <th>5</th>\n",
       "      <td>GPT-4.0</td>\n",
       "      <td>0</td>\n",
       "      <td>0.8219</td>\n",
       "    </tr>\n",
       "    <tr>\n",
       "      <th>6</th>\n",
       "      <td>GPT-4.0</td>\n",
       "      <td>1</td>\n",
       "      <td>0.8536</td>\n",
       "    </tr>\n",
       "    <tr>\n",
       "      <th>7</th>\n",
       "      <td>GPT-4.0</td>\n",
       "      <td>2</td>\n",
       "      <td>0.9063</td>\n",
       "    </tr>\n",
       "    <tr>\n",
       "      <th>8</th>\n",
       "      <td>GPT-4.0</td>\n",
       "      <td>3</td>\n",
       "      <td>0.9148</td>\n",
       "    </tr>\n",
       "    <tr>\n",
       "      <th>9</th>\n",
       "      <td>GPT-4.0</td>\n",
       "      <td>4</td>\n",
       "      <td>0.8194</td>\n",
       "    </tr>\n",
       "  </tbody>\n",
       "</table>\n",
       "</div>"
      ],
      "text/plain": [
       "     Model  Prompt  Accuracy\n",
       "0  GPT-3.5       0    0.6583\n",
       "1  GPT-3.5       1    0.8389\n",
       "2  GPT-3.5       2    0.8306\n",
       "3  GPT-3.5       3    0.4806\n",
       "4  GPT-3.5       4    0.8694\n",
       "5  GPT-4.0       0    0.8219\n",
       "6  GPT-4.0       1    0.8536\n",
       "7  GPT-4.0       2    0.9063\n",
       "8  GPT-4.0       3    0.9148\n",
       "9  GPT-4.0       4    0.8194"
      ]
     },
     "execution_count": 8,
     "metadata": {},
     "output_type": "execute_result"
    }
   ],
   "source": [
    "df"
   ]
  },
  {
   "cell_type": "code",
   "execution_count": 21,
   "id": "82cd98a2",
   "metadata": {},
   "outputs": [
    {
     "data": {
      "image/png": "[encoded data removed]",
      "text/plain": [
       "<Figure size 280x400 with 1 Axes>"
      ]
     },
     "metadata": {},
     "output_type": "display_data"
    }
   ],
   "source": [
    "import seaborn as sns\n",
    "import matplotlib.pyplot as plt\n",
    "sns.set_palette(\"Paired\")\n",
    "g = sns.catplot(\n",
    "    x=\"Model\", \n",
    "    y=\"Accuracy\", \n",
    "    data=df, \n",
    "    kind=\"bar\", \n",
    "    errorbar = \"sd\", \n",
    "    errwidth=1.5,\n",
    "    capsize = 0.1,\n",
    "    height=4, \n",
    "    aspect=.7,)\n",
    "sns.swarmplot(data=df, x=\"Model\", y=\"Accuracy\", hue ='Model', alpha=0.5, legend='auto')\n",
    "plt.legend(loc='upper right', bbox_to_anchor=(1.7,1))\n",
    "plt.ylim(0.5)\n",
    "plt.savefig(\"../figures/prompt_engineering.pdf\")"
   ]
  },
  {
   "cell_type": "code",
   "execution_count": null,
   "id": "595e5284",
   "metadata": {},
   "outputs": [],
   "source": []
  }
 ],
 "metadata": {
  "kernelspec": {
   "display_name": "Python 3 (ipykernel)",
   "language": "python",
   "name": "python3"
  },
  "language_info": {
   "codemirror_mode": {
    "name": "ipython",
    "version": 3
   },
   "file_extension": ".py",
   "mimetype": "text/x-python",
   "name": "python",
   "nbconvert_exporter": "python",
   "pygments_lexer": "ipython3",
   "version": "3.7.0"
  }
 },
 "nbformat": 4,
 "nbformat_minor": 5
}
