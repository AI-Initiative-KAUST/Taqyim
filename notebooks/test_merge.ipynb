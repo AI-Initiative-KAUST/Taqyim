{
 "cells": [
  {
   "cell_type": "code",
   "execution_count": 55,
   "metadata": {},
   "outputs": [],
   "source": [
    "evals_record_paths = ['/home/zaid/.evals/eval_results/ajgt2.jsonl', '/home/zaid/.evals/eval_results/ajgt2.jsonl_resume']"
   ]
  },
  {
   "cell_type": "code",
   "execution_count": 98,
   "metadata": {},
   "outputs": [],
   "source": [
    "import json\n",
    "\n",
    "\n",
    "metrics = {'classification':['accuracy']}\n",
    "\n",
    "def merge_evals(task_class, eval_name, evals_record_paths =[], max_samples = -1, ):\n",
    "    out_records = []\n",
    "    curr_sample_id = 0\n",
    "    curr_event_id = 0 \n",
    "    for record_path in evals_record_paths:\n",
    "        with open(record_path, \"r\") as records_file:\n",
    "            records_str = records_file.read().splitlines()\n",
    "            records = [json.loads(record_str) for record_str in records_str]\n",
    "            records = list(filter(lambda record: \"type\" in record.keys(), records)) #extract records with types\n",
    "            task_records = list(filter(lambda record: record[\"type\"] == task_class, records)) #extract records with types\n",
    "            for i in range(len(task_records)):\n",
    "                # filter the records containing the sample id\n",
    "                sample_id_records = list(filter(lambda record: record[\"sample_id\"] == f'{eval_name}.test.{i}', records))\n",
    "                # print(sample_id_records)\n",
    "                sample_id_record_copy = {}\n",
    "                for sample_id_record in sample_id_records:\n",
    "                    sample_id_record_copy = dict(sample_id_record) # don't modify a dict inside a for loop \n",
    "                    record_id = int(sample_id_record['sample_id'].split('.')[-1])\n",
    "                    sample_id_record_copy['sample_id'] = f\"{eval_name}.test.{curr_sample_id}\"\n",
    "                    sample_id_record_copy['event_id'] = curr_event_id\n",
    "                    curr_event_id += 1\n",
    "                    out_records.append(sample_id_record_copy)\n",
    "                curr_sample_id += 1\n",
    "\n",
    "    final_report =  {metric: 0.0 for metric in metrics[task_class]}\n",
    "    task_metrics = metrics[task_class]\n",
    "    for record in out_records:\n",
    "        if record['type'] == task_class:\n",
    "            for metric in task_metrics:\n",
    "                final_report[metric] += record[\"data\"][metric] / max_samples # what happens if there are repeated samples ?:\n",
    "\n",
    "    out_records.append({'final_report':final_report})\n",
    "    return out_records"
   ]
  },
  {
   "cell_type": "code",
   "execution_count": 100,
   "metadata": {},
   "outputs": [
    {
     "name": "stdout",
     "output_type": "stream",
     "text": [
      "/home/zaid/.evals/eval_results/ajgt2.jsonl\n",
      "/home/zaid/.evals/eval_results/ajgt2.jsonl_resume\n"
     ]
    },
    {
     "data": {
      "text/plain": [
       "[{'run_id': '23060307235557BURB5O',\n",
       "  'event_id': 0,\n",
       "  'sample_id': 'ajgt2.test.0',\n",
       "  'type': 'raw_sample',\n",
       "  'data': {'input': [{'role': 'system', 'content': 'What is the sentiment?'},\n",
       "    {'role': 'user',\n",
       "     'content': ' اربد فيها جامعات اكثر من عمان ... وفيها قد عمان ونص لعيبه المنتخب منها ... و 80 % من مطربين الاردن منها'}],\n",
       "   'ideal': 'Positive'},\n",
       "  'created_by': '',\n",
       "  'created_at': '2023-06-03 07:23:55.954976+00:00'},\n",
       " {'run_id': '23060307235557BURB5O',\n",
       "  'event_id': 1,\n",
       "  'sample_id': 'ajgt2.test.0',\n",
       "  'type': 'sampling',\n",
       "  'data': {'prompt': [{'role': 'system', 'content': 'What is the sentiment?'},\n",
       "    {'role': 'user',\n",
       "     'content': ' اربد فيها جامعات اكثر من عمان ... وفيها قد عمان ونص لعيبه المنتخب منها ... و 80 % من مطربين الاردن منها'}],\n",
       "   'sampled': 'The sentiment in this statement is positive towards Irbid, as it highlights its academic and cultural significance.',\n",
       "   'metadata': {'completion_id': 'chatcmpl-7NFu7YUofB1JD747e2WV5LM0tpUVu',\n",
       "    'model': 'gpt-3.5-turbo-0301'}},\n",
       "  'created_by': '',\n",
       "  'created_at': '2023-06-03 07:23:58.980911+00:00'},\n",
       " {'run_id': '23060307235557BURB5O',\n",
       "  'event_id': 2,\n",
       "  'sample_id': 'ajgt2.test.0',\n",
       "  'type': 'classification',\n",
       "  'data': {'accuracy': True,\n",
       "   'sampled': 'The sentiment in this statement is positive towards Irbid, as it highlights its academic and cultural significance.',\n",
       "   'expected': 'Positive'},\n",
       "  'created_by': '',\n",
       "  'created_at': '2023-06-03 07:23:58.980939+00:00'},\n",
       " {'run_id': '230603073108DXG5WT4N',\n",
       "  'event_id': 3,\n",
       "  'sample_id': 'ajgt2.test.1',\n",
       "  'type': 'raw_sample',\n",
       "  'data': {'input': [{'role': 'system', 'content': 'What is the sentiment?'},\n",
       "    {'role': 'user',\n",
       "     'content': ' الحلو انكم بتحكوا على اساس انو الاردن ما فيه فساد سرقات'}],\n",
       "   'ideal': 'Negative'},\n",
       "  'created_by': '',\n",
       "  'created_at': '2023-06-03 07:31:08.331460+00:00'},\n",
       " {'run_id': '230603073108DXG5WT4N',\n",
       "  'event_id': 4,\n",
       "  'sample_id': 'ajgt2.test.1',\n",
       "  'type': 'sampling',\n",
       "  'data': {'prompt': [{'role': 'system', 'content': 'What is the sentiment?'},\n",
       "    {'role': 'user',\n",
       "     'content': ' الحلو انكم بتحكوا على اساس انو الاردن ما فيه فساد سرقات'}],\n",
       "   'sampled': 'The sentiment of the statement is positive, as the speaker is expressing appreciation for the fact that people are discussing the issue of corruption and theft in Jordan.',\n",
       "   'metadata': {'completion_id': 'chatcmpl-7NG16WdJDcNMQqz7emPGJxZv8bFdX',\n",
       "    'model': 'gpt-3.5-turbo-0301'}},\n",
       "  'created_by': '',\n",
       "  'created_at': '2023-06-03 07:31:12.457521+00:00'},\n",
       " {'run_id': '230603073108DXG5WT4N',\n",
       "  'event_id': 5,\n",
       "  'sample_id': 'ajgt2.test.1',\n",
       "  'type': 'classification',\n",
       "  'data': {'accuracy': False,\n",
       "   'sampled': 'The sentiment of the statement is positive, as the speaker is expressing appreciation for the fact that people are discussing the issue of corruption and theft in Jordan.',\n",
       "   'expected': 'Negative'},\n",
       "  'created_by': '',\n",
       "  'created_at': '2023-06-03 07:31:12.457619+00:00'},\n",
       " {'run_id': '230603073108DXG5WT4N',\n",
       "  'event_id': 6,\n",
       "  'sample_id': 'ajgt2.test.2',\n",
       "  'type': 'raw_sample',\n",
       "  'data': {'input': [{'role': 'system', 'content': 'What is the sentiment?'},\n",
       "    {'role': 'user', 'content': ' كله رائع بجد ربنا يكرمك'}],\n",
       "   'ideal': 'Positive'},\n",
       "  'created_by': '',\n",
       "  'created_at': '2023-06-03 07:31:12.459347+00:00'},\n",
       " {'run_id': '230603073108DXG5WT4N',\n",
       "  'event_id': 7,\n",
       "  'sample_id': 'ajgt2.test.2',\n",
       "  'type': 'sampling',\n",
       "  'data': {'prompt': [{'role': 'system', 'content': 'What is the sentiment?'},\n",
       "    {'role': 'user', 'content': ' كله رائع بجد ربنا يكرمك'}],\n",
       "   'sampled': 'The sentiment of the statement is positive. It expresses appreciation and gratitude towards something or someone.',\n",
       "   'metadata': {'completion_id': 'chatcmpl-7NG19qi0cZmBTiZOqd4syPYynbCOS',\n",
       "    'model': 'gpt-3.5-turbo-0301'}},\n",
       "  'created_by': '',\n",
       "  'created_at': '2023-06-03 07:31:15.120797+00:00'},\n",
       " {'run_id': '230603073108DXG5WT4N',\n",
       "  'event_id': 8,\n",
       "  'sample_id': 'ajgt2.test.2',\n",
       "  'type': 'classification',\n",
       "  'data': {'accuracy': True,\n",
       "   'sampled': 'The sentiment of the statement is positive. It expresses appreciation and gratitude towards something or someone.',\n",
       "   'expected': 'Positive'},\n",
       "  'created_by': '',\n",
       "  'created_at': '2023-06-03 07:31:15.120892+00:00'},\n",
       " {'final_report': {'accuracy': 0.6666666666666666}}]"
      ]
     },
     "execution_count": 100,
     "metadata": {},
     "output_type": "execute_result"
    }
   ],
   "source": [
    "merge_evals (eval_name = \"ajgt2\", task_class = \"classification\", max_samples= 3, evals_record_paths = evals_record_paths)"
   ]
  },
  {
   "cell_type": "code",
   "execution_count": 95,
   "metadata": {},
   "outputs": [
    {
     "name": "stdout",
     "output_type": "stream",
     "text": [
      "{'role': 'user', 'content': ' اربد فيها جامعات اكثر من عمان ... وفيها قد عمان ونص لعيبه المنتخب منها ... و 80 % من مطربين الاردن منها'}\n",
      "{'role': 'user', 'content': ' الحلو انكم بتحكوا على اساس انو الاردن ما فيه فساد سرقات'}\n",
      "{'role': 'user', 'content': ' كله رائع بجد ربنا يكرمك'}\n"
     ]
    }
   ],
   "source": [
    "for record in out_records:\n",
    "    if 'type' in record and  record['type'] == 'raw_sample':\n",
    "        print(record['data']['input'][1])"
   ]
  },
  {
   "cell_type": "code",
   "execution_count": 96,
   "metadata": {},
   "outputs": [
    {
     "name": "stderr",
     "output_type": "stream",
     "text": [
      "Found cached dataset ajgt_twitter_ar (/home/zaid/.cache/huggingface/datasets/ajgt_twitter_ar/plain_text/1.0.0/52248534d006e64154333ee6bb8bc3bea8545e00cfc156eaba190bf52dcff6b5)\n"
     ]
    },
    {
     "data": {
      "application/vnd.jupyter.widget-view+json": {
       "model_id": "b2c02659158546e0a05cf7b2cb9e8834",
       "version_major": 2,
       "version_minor": 0
      },
      "text/plain": [
       "  0%|          | 0/1 [00:00<?, ?it/s]"
      ]
     },
     "metadata": {},
     "output_type": "display_data"
    }
   ],
   "source": [
    "from datasets import load_dataset\n",
    "dataset = load_dataset('ajgt_twitter_ar')"
   ]
  },
  {
   "cell_type": "code",
   "execution_count": 97,
   "metadata": {},
   "outputs": [
    {
     "name": "stdout",
     "output_type": "stream",
     "text": [
      "{'text': ' اربد فيها جامعات اكثر من عمان ... وفيها قد عمان ونص لعيبه المنتخب منها ... و 80 % من مطربين الاردن منها', 'label': 1}\n",
      "{'text': ' الحلو انكم بتحكوا على اساس انو الاردن ما فيه فساد سرقات', 'label': 0}\n",
      "{'text': ' كله رائع بجد ربنا يكرمك', 'label': 1}\n"
     ]
    }
   ],
   "source": [
    "for i, sample in enumerate(dataset['train']):\n",
    "    print(sample)\n",
    "    if i >= 2:\n",
    "        break"
   ]
  }
 ],
 "metadata": {
  "kernelspec": {
   "display_name": "evals",
   "language": "python",
   "name": "python3"
  },
  "language_info": {
   "codemirror_mode": {
    "name": "ipython",
    "version": 3
   },
   "file_extension": ".py",
   "mimetype": "text/x-python",
   "name": "python",
   "nbconvert_exporter": "python",
   "pygments_lexer": "ipython3",
   "version": "3.9.0"
  },
  "orig_nbformat": 4
 },
 "nbformat": 4,
 "nbformat_minor": 2
}
