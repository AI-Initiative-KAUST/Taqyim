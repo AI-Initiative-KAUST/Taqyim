{
 "cells": [
  {
   "cell_type": "code",
   "execution_count": 4,
   "id": "b8319963",
   "metadata": {},
   "outputs": [],
   "source": [
    "import pandas as pd\n",
    "results = []\n",
    "fewshots = [0, 3, 5, 10]\n",
    "for _id in fewshots:\n",
    "    record_path = f'eval_results/eval_results_gpt_3_5/ajgt_few_shot/ajgt-fewshot-{_id}-temp-1.0.jsonl'\n",
    "    with open(record_path, \"r\") as f:\n",
    "        events_df = pd.read_json(f, lines=True)\n",
    "    results.append(['gpt-3.5', _id,  round(events_df[events_df[\"final_report\"].notnull()][\"final_report\"].to_list()[0]['accuracy'], 4)])"
   ]
  },
  {
   "cell_type": "code",
   "execution_count": 5,
   "id": "5cf399b8",
   "metadata": {},
   "outputs": [
    {
     "name": "stdout",
     "output_type": "stream",
     "text": [
      "ajgt-fewshot-0-temp-1.0.jsonl\tajgt-fewshot-3-temp-1.0.jsonl\r\n",
      "ajgt-fewshot-10-temp-1.0.jsonl\tajgt-fewshot-5-temp-1.0.jsonl\r\n"
     ]
    }
   ],
   "source": [
    "!ls eval_results/eval_results_gpt_3_5/ajgt_few_shot/"
   ]
  },
  {
   "cell_type": "code",
   "execution_count": 6,
   "id": "bab69217",
   "metadata": {},
   "outputs": [],
   "source": [
    "import pandas as pd\n",
    "for _id in fewshots:\n",
    "    record_path = f'eval_results/eval_results_gpt_4_0/ajgt_few_shot/ajgt-fewshot-{_id}-temp-1.0{\"\" if _id !=0 else \"_updated_prompt\"}.jsonl'\n",
    "    with open(record_path, \"r\") as f:\n",
    "        events_df = pd.read_json(f, lines=True)\n",
    "    results.append(['gpt-4.0', _id,  round(events_df[events_df[\"final_report\"].notnull()][\"final_report\"].to_list()[0]['accuracy'], 4)])"
   ]
  },
  {
   "cell_type": "code",
   "execution_count": 7,
   "id": "6c923deb",
   "metadata": {},
   "outputs": [
    {
     "data": {
      "text/plain": [
       "[['gpt-3.5', 0, 0.8694],\n",
       " ['gpt-3.5', 3, 0.8083],\n",
       " ['gpt-3.5', 5, 0.85],\n",
       " ['gpt-3.5', 10, 0.842],\n",
       " ['gpt-4.0', 0, 0.9114],\n",
       " ['gpt-4.0', 3, 0.9284],\n",
       " ['gpt-4.0', 5, 0.9537],\n",
       " ['gpt-4.0', 10, 0.9231]]"
      ]
     },
     "execution_count": 7,
     "metadata": {},
     "output_type": "execute_result"
    }
   ],
   "source": [
    "results"
   ]
  },
  {
   "cell_type": "code",
   "execution_count": 8,
   "id": "8ddbefe9",
   "metadata": {},
   "outputs": [],
   "source": [
    "df = pd.DataFrame(results)\n",
    "df.columns = ['Model', 'Temperature', 'Accuracy']"
   ]
  },
  {
   "cell_type": "code",
   "execution_count": 9,
   "id": "6d6fb24c",
   "metadata": {},
   "outputs": [
    {
     "data": {
      "text/html": [
       "<div>\n",
       "<style scoped>\n",
       "    .dataframe tbody tr th:only-of-type {\n",
       "        vertical-align: middle;\n",
       "    }\n",
       "\n",
       "    .dataframe tbody tr th {\n",
       "        vertical-align: top;\n",
       "    }\n",
       "\n",
       "    .dataframe thead th {\n",
       "        text-align: right;\n",
       "    }\n",
       "</style>\n",
       "<table border=\"1\" class=\"dataframe\">\n",
       "  <thead>\n",
       "    <tr style=\"text-align: right;\">\n",
       "      <th></th>\n",
       "      <th>Model</th>\n",
       "      <th>Temperature</th>\n",
       "      <th>Accuracy</th>\n",
       "    </tr>\n",
       "  </thead>\n",
       "  <tbody>\n",
       "    <tr>\n",
       "      <th>0</th>\n",
       "      <td>gpt-3.5</td>\n",
       "      <td>0</td>\n",
       "      <td>0.8694</td>\n",
       "    </tr>\n",
       "    <tr>\n",
       "      <th>1</th>\n",
       "      <td>gpt-3.5</td>\n",
       "      <td>3</td>\n",
       "      <td>0.8083</td>\n",
       "    </tr>\n",
       "    <tr>\n",
       "      <th>2</th>\n",
       "      <td>gpt-3.5</td>\n",
       "      <td>5</td>\n",
       "      <td>0.8500</td>\n",
       "    </tr>\n",
       "    <tr>\n",
       "      <th>3</th>\n",
       "      <td>gpt-3.5</td>\n",
       "      <td>10</td>\n",
       "      <td>0.8420</td>\n",
       "    </tr>\n",
       "    <tr>\n",
       "      <th>4</th>\n",
       "      <td>gpt-4.0</td>\n",
       "      <td>0</td>\n",
       "      <td>0.9114</td>\n",
       "    </tr>\n",
       "    <tr>\n",
       "      <th>5</th>\n",
       "      <td>gpt-4.0</td>\n",
       "      <td>3</td>\n",
       "      <td>0.9284</td>\n",
       "    </tr>\n",
       "    <tr>\n",
       "      <th>6</th>\n",
       "      <td>gpt-4.0</td>\n",
       "      <td>5</td>\n",
       "      <td>0.9537</td>\n",
       "    </tr>\n",
       "    <tr>\n",
       "      <th>7</th>\n",
       "      <td>gpt-4.0</td>\n",
       "      <td>10</td>\n",
       "      <td>0.9231</td>\n",
       "    </tr>\n",
       "  </tbody>\n",
       "</table>\n",
       "</div>"
      ],
      "text/plain": [
       "     Model  Temperature  Accuracy\n",
       "0  gpt-3.5            0    0.8694\n",
       "1  gpt-3.5            3    0.8083\n",
       "2  gpt-3.5            5    0.8500\n",
       "3  gpt-3.5           10    0.8420\n",
       "4  gpt-4.0            0    0.9114\n",
       "5  gpt-4.0            3    0.9284\n",
       "6  gpt-4.0            5    0.9537\n",
       "7  gpt-4.0           10    0.9231"
      ]
     },
     "execution_count": 9,
     "metadata": {},
     "output_type": "execute_result"
    }
   ],
   "source": [
    "df"
   ]
  },
  {
   "cell_type": "code",
   "execution_count": 10,
   "id": "82cd98a2",
   "metadata": {},
   "outputs": [],
   "source": [
    "from matplotlib import pyplot as plt\n",
    "import seaborn as sns    "
   ]
  },
  {
   "cell_type": "code",
   "execution_count": 11,
   "id": "7b58f208",
   "metadata": {},
   "outputs": [
    {
     "data": {
      "text/plain": [
       "<seaborn.axisgrid.FacetGrid at 0x7f93dda2fbe0>"
      ]
     },
     "execution_count": 11,
     "metadata": {},
     "output_type": "execute_result"
    },
    {
     "data": {
      "image/png": "[encoded data removed]",
      "text/plain": [
       "<Figure size 700x400 with 1 Axes>"
      ]
     },
     "metadata": {},
     "output_type": "display_data"
    }
   ],
   "source": [
    "sns.catplot(\n",
    "    x=\"Temperature\", \n",
    "    y=\"Accuracy\", \n",
    "    data=df, \n",
    "    kind=\"bar\",\n",
    "    hue = \"Model\",\n",
    "    errorbar = \"sd\", \n",
    "    edgecolor=\"black\",\n",
    "    errcolor=\"black\",\n",
    "    errwidth=1.5,\n",
    "    capsize = 0.1,\n",
    "    height=4, \n",
    "    aspect=1.5,\n",
    "    alpha=0.5,)"
   ]
  }
 ],
 "metadata": {
  "kernelspec": {
   "display_name": "Python 3 (ipykernel)",
   "language": "python",
   "name": "python3"
  },
  "language_info": {
   "codemirror_mode": {
    "name": "ipython",
    "version": 3
   },
   "file_extension": ".py",
   "mimetype": "text/x-python",
   "name": "python",
   "nbconvert_exporter": "python",
   "pygments_lexer": "ipython3",
   "version": "3.8.10"
  }
 },
 "nbformat": 4,
 "nbformat_minor": 5
}
