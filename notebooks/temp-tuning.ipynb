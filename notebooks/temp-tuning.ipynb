{
 "cells": [
  {
   "cell_type": "code",
   "execution_count": 1,
   "id": "b8319963",
   "metadata": {},
   "outputs": [],
   "source": [
    "import pandas as pd\n",
    "results = []\n",
    "temps = [0.0, 0.5, 1.0,  1.5, 2.0]\n",
    "for temp in temps:\n",
    "    record_path = f'../eval_results/eval_results_gpt_3_5/ajgt_temp_tuning/ajgt-{temp}.jsonl'\n",
    "    with open(record_path, \"r\") as f:\n",
    "        events_df = pd.read_json(f, lines=True)\n",
    "    results.append(['GPT-3.5', temp,  round(events_df[events_df[\"final_report\"].notnull()][\"final_report\"].to_list()[0]['accuracy'], 4)])"
   ]
  },
  {
   "cell_type": "code",
   "execution_count": 3,
   "id": "bab69217",
   "metadata": {},
   "outputs": [],
   "source": [
    "import pandas as pd\n",
    "for temp in temps:\n",
    "    record_path = f'../eval_results/eval_results_gpt_4_0/ajgt_temp_tuning/ajgt-{temp}.jsonl'\n",
    "    with open(record_path, \"r\") as f:\n",
    "        events_df = pd.read_json(f, lines=True)\n",
    "    results.append(['GPT-4.0', temp,  round(events_df[events_df[\"final_report\"].notnull()][\"final_report\"].to_list()[0]['accuracy'], 4)])"
   ]
  },
  {
   "cell_type": "code",
   "execution_count": 4,
   "id": "6c923deb",
   "metadata": {},
   "outputs": [
    {
     "data": {
      "text/plain": [
       "[['GPT-3.5', 0.0, 0.8778],\n",
       " ['GPT-3.5', 0.5, 0.8861],\n",
       " ['GPT-3.5', 1.0, 0.8812],\n",
       " ['GPT-3.5', 1.5, 0.8806],\n",
       " ['GPT-3.5', 2.0, 0.8917],\n",
       " ['GPT-4.0', 0.0, 0.903],\n",
       " ['GPT-4.0', 0.5, 0.8926],\n",
       " ['GPT-4.0', 1.0, 0.8989],\n",
       " ['GPT-4.0', 1.5, 0.8956],\n",
       " ['GPT-4.0', 2.0, 0.9006]]"
      ]
     },
     "execution_count": 4,
     "metadata": {},
     "output_type": "execute_result"
    }
   ],
   "source": [
    "results"
   ]
  },
  {
   "cell_type": "code",
   "execution_count": 5,
   "id": "8ddbefe9",
   "metadata": {},
   "outputs": [],
   "source": [
    "df = pd.DataFrame(results)\n",
    "df.columns = ['Model', 'Temperature', 'Accuracy']"
   ]
  },
  {
   "cell_type": "code",
   "execution_count": 6,
   "id": "6d6fb24c",
   "metadata": {},
   "outputs": [
    {
     "data": {
      "text/html": [
       "<div>\n",
       "<style scoped>\n",
       "    .dataframe tbody tr th:only-of-type {\n",
       "        vertical-align: middle;\n",
       "    }\n",
       "\n",
       "    .dataframe tbody tr th {\n",
       "        vertical-align: top;\n",
       "    }\n",
       "\n",
       "    .dataframe thead th {\n",
       "        text-align: right;\n",
       "    }\n",
       "</style>\n",
       "<table border=\"1\" class=\"dataframe\">\n",
       "  <thead>\n",
       "    <tr style=\"text-align: right;\">\n",
       "      <th></th>\n",
       "      <th>Model</th>\n",
       "      <th>Temperature</th>\n",
       "      <th>Accuracy</th>\n",
       "    </tr>\n",
       "  </thead>\n",
       "  <tbody>\n",
       "    <tr>\n",
       "      <th>0</th>\n",
       "      <td>GPT-3.5</td>\n",
       "      <td>0.0</td>\n",
       "      <td>0.8778</td>\n",
       "    </tr>\n",
       "    <tr>\n",
       "      <th>1</th>\n",
       "      <td>GPT-3.5</td>\n",
       "      <td>0.5</td>\n",
       "      <td>0.8861</td>\n",
       "    </tr>\n",
       "    <tr>\n",
       "      <th>2</th>\n",
       "      <td>GPT-3.5</td>\n",
       "      <td>1.0</td>\n",
       "      <td>0.8812</td>\n",
       "    </tr>\n",
       "    <tr>\n",
       "      <th>3</th>\n",
       "      <td>GPT-3.5</td>\n",
       "      <td>1.5</td>\n",
       "      <td>0.8806</td>\n",
       "    </tr>\n",
       "    <tr>\n",
       "      <th>4</th>\n",
       "      <td>GPT-3.5</td>\n",
       "      <td>2.0</td>\n",
       "      <td>0.8917</td>\n",
       "    </tr>\n",
       "    <tr>\n",
       "      <th>5</th>\n",
       "      <td>GPT-4.0</td>\n",
       "      <td>0.0</td>\n",
       "      <td>0.9030</td>\n",
       "    </tr>\n",
       "    <tr>\n",
       "      <th>6</th>\n",
       "      <td>GPT-4.0</td>\n",
       "      <td>0.5</td>\n",
       "      <td>0.8926</td>\n",
       "    </tr>\n",
       "    <tr>\n",
       "      <th>7</th>\n",
       "      <td>GPT-4.0</td>\n",
       "      <td>1.0</td>\n",
       "      <td>0.8989</td>\n",
       "    </tr>\n",
       "    <tr>\n",
       "      <th>8</th>\n",
       "      <td>GPT-4.0</td>\n",
       "      <td>1.5</td>\n",
       "      <td>0.8956</td>\n",
       "    </tr>\n",
       "    <tr>\n",
       "      <th>9</th>\n",
       "      <td>GPT-4.0</td>\n",
       "      <td>2.0</td>\n",
       "      <td>0.9006</td>\n",
       "    </tr>\n",
       "  </tbody>\n",
       "</table>\n",
       "</div>"
      ],
      "text/plain": [
       "     Model  Temperature  Accuracy\n",
       "0  GPT-3.5          0.0    0.8778\n",
       "1  GPT-3.5          0.5    0.8861\n",
       "2  GPT-3.5          1.0    0.8812\n",
       "3  GPT-3.5          1.5    0.8806\n",
       "4  GPT-3.5          2.0    0.8917\n",
       "5  GPT-4.0          0.0    0.9030\n",
       "6  GPT-4.0          0.5    0.8926\n",
       "7  GPT-4.0          1.0    0.8989\n",
       "8  GPT-4.0          1.5    0.8956\n",
       "9  GPT-4.0          2.0    0.9006"
      ]
     },
     "execution_count": 6,
     "metadata": {},
     "output_type": "execute_result"
    }
   ],
   "source": [
    "df"
   ]
  },
  {
   "cell_type": "code",
   "execution_count": 32,
   "id": "82cd98a2",
   "metadata": {},
   "outputs": [],
   "source": [
    "from matplotlib import pyplot as plt\n",
    "import seaborn as sns\n",
    "sns.set_palette(\"Paired\")"
   ]
  },
  {
   "cell_type": "code",
   "execution_count": 35,
   "id": "21244743",
   "metadata": {},
   "outputs": [
    {
     "data": {
      "image/png": "[encoded data removed]",
      "text/plain": [
       "<Figure size 703.125x400 with 1 Axes>"
      ]
     },
     "metadata": {},
     "output_type": "display_data"
    }
   ],
   "source": [
    "sns.catplot(\n",
    "    x=\"Temperature\", \n",
    "    y=\"Accuracy\", \n",
    "    data=df, \n",
    "    kind=\"bar\",\n",
    "    hue = \"Model\",\n",
    "    errorbar = \"sd\", \n",
    "    edgecolor=\"white\",\n",
    "    errcolor=\"black\",\n",
    "    errwidth=1.5,\n",
    "    capsize = 0.1,\n",
    "    height=4, \n",
    "    aspect=1.5,)\n",
    "plt.ylim(0.7)\n",
    "plt.savefig(\"../figures/temp_tuning.pdf\")"
   ]
  },
  {
   "cell_type": "code",
   "execution_count": null,
   "id": "1d960527",
   "metadata": {},
   "outputs": [],
   "source": []
  }
 ],
 "metadata": {
  "kernelspec": {
   "display_name": "Python 3 (ipykernel)",
   "language": "python",
   "name": "python3"
  },
  "language_info": {
   "codemirror_mode": {
    "name": "ipython",
    "version": 3
   },
   "file_extension": ".py",
   "mimetype": "text/x-python",
   "name": "python",
   "nbconvert_exporter": "python",
   "pygments_lexer": "ipython3",
   "version": "3.7.0"
  }
 },
 "nbformat": 4,
 "nbformat_minor": 5
}
